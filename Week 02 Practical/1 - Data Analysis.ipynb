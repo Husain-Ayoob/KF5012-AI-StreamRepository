{
 "cells": [
  {
   "cell_type": "markdown",
   "metadata": {},
   "source": [
    "## Data Analysis\n",
    "\n",
    "In this notebook we will introduce the Pandas Python package and use an example dataset to go over some basics of data analysis using Python. Specifically, we will cover:\n",
    "* Introduction to Pandas\n",
    "    * Loading data with Pandas\n",
    "    * Manipulating data with Pandas\n",
    "* Basic data analysis\n",
    "    * Visualising data\n",
    "    * Exploring correlations\n",
    "\n",
    "First, let's import the required packages:"
   ]
  },
  {
   "cell_type": "code",
   "execution_count": null,
   "metadata": {},
   "outputs": [],
   "source": [
    "import numpy as np\n",
    "import pandas as pd\n",
    "%matplotlib inline"
   ]
  },
  {
   "cell_type": "markdown",
   "metadata": {},
   "source": [
    "### Introduction to Pandas\n",
    "\n",
    "[Pandas](https://pandas.pydata.org/) is a fast, powerful, flexible and easy to use open source data analysis and manipulation tool, built on top of the Python programming language. Let's explore some of the benefits of Pandas."
   ]
  },
  {
   "cell_type": "markdown",
   "metadata": {},
   "source": [
    "#### Loading data with Pandas\n",
    "Pandas can be used as a quick and convenient way to to load data. For example, let's compare how you might load and print data from a csv file without Pandas and with Pandas."
   ]
  },
  {
   "cell_type": "markdown",
   "metadata": {},
   "source": [
    "*(1) Loading csv data without Pandas*:"
   ]
  },
  {
   "cell_type": "code",
   "execution_count": null,
   "metadata": {},
   "outputs": [],
   "source": [
    "arr_houses = np.genfromtxt('Data/houses.csv', delimiter = ',', dtype = '|U')\n",
    "arr_houses"
   ]
  },
  {
   "cell_type": "markdown",
   "metadata": {},
   "source": [
    "*(2) Loading csv data with Pandas*:"
   ]
  },
  {
   "cell_type": "code",
   "execution_count": null,
   "metadata": {},
   "outputs": [],
   "source": [
    "df_houses = pd.read_csv('Data/houses.csv', sep=',', header=0)\n",
    "df_houses.head(5)"
   ]
  },
  {
   "cell_type": "markdown",
   "metadata": {},
   "source": [
    "Let's take a moment to understand the differences between using Numpy and using Pandas to import a csv. \n",
    "\n",
    "When we import data using `np.genfromtext` we create a *Numpy Array*, while when we import data using `pd.read_csv` we create a *Pandas DataFrame*. A Pandas DataFrame is similar to a Numpy Array, but with many added benefits.\n",
    "\n",
    "For example, one of the benefits of using a Pandas DataFrame over of a Numpy Array, is the ability to use `df.head` to print the *head* of a DataFrame in a readable tabular format. Note that `df.head(k)` only prints the first `k` rows.\n",
    "\n",
    "Let's explore some more..."
   ]
  },
  {
   "cell_type": "markdown",
   "metadata": {},
   "source": [
    "#### Manipulating data with Pandas\n",
    "In many cases, it is easier to manipulate data in an Pandas DataFrame than to manipulate data in a Numpy Array. For example, let us compute the mean of each column in the `houses.csv` data."
   ]
  },
  {
   "cell_type": "code",
   "execution_count": null,
   "metadata": {},
   "outputs": [],
   "source": [
    "df_houses.mean()"
   ]
  },
  {
   "cell_type": "markdown",
   "metadata": {},
   "source": [
    "Let us reduce the dataset to only house with 1 bathroom."
   ]
  },
  {
   "cell_type": "code",
   "execution_count": null,
   "metadata": {},
   "outputs": [],
   "source": [
    "df_houses_1bathroom = df_houses[df_houses['Number of Bathrooms']==1]\n",
    "df_houses_1bathroom.head()"
   ]
  },
  {
   "cell_type": "markdown",
   "metadata": {},
   "source": [
    "And let us compute the average square meters for houses with 1 bathroom."
   ]
  },
  {
   "cell_type": "code",
   "execution_count": null,
   "metadata": {},
   "outputs": [],
   "source": [
    "df_houses_1bathroom['Square Meters'].mean()"
   ]
  },
  {
   "cell_type": "markdown",
   "metadata": {},
   "source": [
    "Finally, let us add the number of bedrooms to the number of bathrooms and create an additional column with the total number of known rooms."
   ]
  },
  {
   "cell_type": "code",
   "execution_count": null,
   "metadata": {},
   "outputs": [],
   "source": [
    "df_houses['Total Rooms'] = df_houses['Number of Bedooms'] + df_houses['Number of Bathrooms']\n",
    "df_houses.head()"
   ]
  },
  {
   "cell_type": "markdown",
   "metadata": {},
   "source": [
    "### Example data\n",
    "Let's now use Pandas to analyse some real data. The dataset we will use can be described as follows:\n",
    "\n",
    ">Ten baseline variables, age, sex, body mass index, average blood pressure, and six blood serum measurements were obtained for each of n = 442 diabetes patients, as well as the response of interest, a quantitative measure of disease progression one year after baseline.\"\n",
    "> [SOURCE](https://www4.stat.ncsu.edu/~boos/var.select/diabetes.html)"
   ]
  },
  {
   "cell_type": "markdown",
   "metadata": {},
   "source": [
    "Let's first use Pandas to import the data and look at its head."
   ]
  },
  {
   "cell_type": "code",
   "execution_count": null,
   "metadata": {},
   "outputs": [],
   "source": [
    "df_diabetes = pd.read_csv('Data/diabetes.tsv', sep='\\t', header=0)\n",
    "df_diabetes.head()"
   ]
  },
  {
   "cell_type": "markdown",
   "metadata": {},
   "source": [
    "The data appears to be a mix of intergers and floats. We can easily check using the `dtypes` attribute as follows."
   ]
  },
  {
   "cell_type": "code",
   "execution_count": null,
   "metadata": {},
   "outputs": [],
   "source": [
    "df_diabetes.dtypes"
   ]
  },
  {
   "cell_type": "markdown",
   "metadata": {},
   "source": [
    "#### Visualising data\n",
    "Let's now visualise the diabetes data in different ways."
   ]
  },
  {
   "cell_type": "markdown",
   "metadata": {},
   "source": [
    "Let's create a *histogram* plot of the values in the 'response of interest' column."
   ]
  },
  {
   "cell_type": "code",
   "execution_count": null,
   "metadata": {},
   "outputs": [],
   "source": [
    "df_diabetes.hist('Y',bins=30);"
   ]
  },
  {
   "cell_type": "markdown",
   "metadata": {},
   "source": [
    "(Try changing the number of bins in the above plot to see how the plot changes)."
   ]
  },
  {
   "cell_type": "markdown",
   "metadata": {},
   "source": [
    "Let's create a *scatter* plot to compare the values in the 'body mass index' column to the values in the 'response of interest' column."
   ]
  },
  {
   "cell_type": "code",
   "execution_count": null,
   "metadata": {},
   "outputs": [],
   "source": [
    "df_diabetes.plot.scatter(x='BMI', y='Y');"
   ]
  },
  {
   "cell_type": "markdown",
   "metadata": {},
   "source": [
    "Let's create another *scatter* plot to compare the values in the 3rd 'blood serum measurement' column to the 'response of interest' column."
   ]
  },
  {
   "cell_type": "code",
   "execution_count": null,
   "metadata": {},
   "outputs": [],
   "source": [
    "df_diabetes.plot.scatter(x='S3', y='Y');"
   ]
  },
  {
   "cell_type": "markdown",
   "metadata": {},
   "source": [
    "#### Exploring correlations\n",
    "Note the different shapes in the above two scatter plots. The shape of the cloud of data points is partly due to the *correlation* between the variables on the `x` and `y` axes of the plot. Furthermore, it is possible to measure the correlation between all the different pairs of columns in the diabetes DataFrame as follows."
   ]
  },
  {
   "cell_type": "code",
   "execution_count": null,
   "metadata": {},
   "outputs": [],
   "source": [
    "df_diabetes_corr = df_diabetes.corr()\n",
    "df_diabetes_corr.round(2).head(len(df_diabetes_corr))"
   ]
  },
  {
   "cell_type": "markdown",
   "metadata": {},
   "source": [
    "Looking along the **Y** row in the above matrix, we see that the highest value is in the **BMI** column and the lowest value (largest negative value) is in the **S3** column. This suggests that **BMI** is *positively correlated* with **Y** and **S3** is *negatively correlated* with **Y**."
   ]
  }
 ],
 "metadata": {
  "kernelspec": {
   "display_name": "Python 3",
   "language": "python",
   "name": "python3"
  },
  "language_info": {
   "codemirror_mode": {
    "name": "ipython",
    "version": 3
   },
   "file_extension": ".py",
   "mimetype": "text/x-python",
   "name": "python",
   "nbconvert_exporter": "python",
   "pygments_lexer": "ipython3",
   "version": "3.6.4"
  }
 },
 "nbformat": 4,
 "nbformat_minor": 2
}
