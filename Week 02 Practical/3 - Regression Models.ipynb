{
 "cells": [
  {
   "cell_type": "markdown",
   "metadata": {},
   "source": [
    "## Regression Models\n",
    "Regression models are an important set of tools for doing machine learning. In this notebook we will introduce the idea of regression. Specifically, we will cover (1) fitting a linear model to one dimension, and (2) evaluating the performance of the model on the training set.\n",
    "\n",
    "First let's import the required packages."
   ]
  },
  {
   "cell_type": "code",
   "execution_count": null,
   "metadata": {},
   "outputs": [],
   "source": [
    "import numpy as np\n",
    "import pandas as pd\n",
    "from sklearn.linear_model import LinearRegression\n",
    "from sklearn.metrics import mean_squared_error\n",
    "%matplotlib inline"
   ]
  },
  {
   "cell_type": "markdown",
   "metadata": {},
   "source": [
    "You will see that we are using a new package sklearn (scikit-learn) which is is a free software machine learning library for the Python programming language. The new tools we have import are the `LinearRegression` model (which we will use to perform regression) and the `mean_squared_error` metric (which we will use to measure the performance of the model)."
   ]
  },
  {
   "cell_type": "markdown",
   "metadata": {},
   "source": [
    "### Fitting a linear model to one dimension"
   ]
  },
  {
   "cell_type": "markdown",
   "metadata": {},
   "source": [
    "Let's import the diabetes data from the previous notebook."
   ]
  },
  {
   "cell_type": "code",
   "execution_count": null,
   "metadata": {},
   "outputs": [],
   "source": [
    "df_diabetes = pd.read_csv('Data/diabetes.tsv', sep='\\t', header=0)\n",
    "df_diabetes.head()"
   ]
  },
  {
   "cell_type": "markdown",
   "metadata": {},
   "source": [
    "And let's re-create the scatter plot of **Y** against **BMI**."
   ]
  },
  {
   "cell_type": "code",
   "execution_count": null,
   "metadata": {},
   "outputs": [],
   "source": [
    "df_diabetes.plot.scatter(x='BMI', y='Y');"
   ]
  },
  {
   "cell_type": "markdown",
   "metadata": {},
   "source": [
    "To capture the relationship between **Y** and **BMI** using regression, we will map the **Y** column to a target variable $y$ and and the **BMI** to an attributes variable $X$ and model the relationship between them with a linear model.\n",
    "\n",
    "First, let's create our target and attributes, and check the shape."
   ]
  },
  {
   "cell_type": "code",
   "execution_count": null,
   "metadata": {},
   "outputs": [],
   "source": [
    "X = df_diabetes['BMI']\n",
    "y = df_diabetes['Y']\n",
    "print(X.shape)\n",
    "print(y.shape)"
   ]
  },
  {
   "cell_type": "markdown",
   "metadata": {},
   "source": [
    "Sklearn does not accept attribute data of zero dimension, so we need to add the second dimension manually. It's as easy as redefing $X$ to be:"
   ]
  },
  {
   "cell_type": "code",
   "execution_count": null,
   "metadata": {},
   "outputs": [],
   "source": [
    "X = df_diabetes['BMI'][:, np.newaxis]\n",
    "print(X.shape)\n",
    "print(y.shape)"
   ]
  },
  {
   "cell_type": "markdown",
   "metadata": {},
   "source": [
    "Let's now create an instance of a linear model and fit the linear model to the data."
   ]
  },
  {
   "cell_type": "code",
   "execution_count": null,
   "metadata": {},
   "outputs": [],
   "source": [
    "lmod = LinearRegression()\n",
    "lmod.fit(X, y);"
   ]
  },
  {
   "cell_type": "markdown",
   "metadata": {},
   "source": [
    "Finally, let's ask the model to make predictions for $X$ and see how well the model performs."
   ]
  },
  {
   "cell_type": "code",
   "execution_count": null,
   "metadata": {},
   "outputs": [],
   "source": [
    "y_pred = lmod.predict(X)\n",
    "results = pd.DataFrame({'X':df_diabetes['BMI'],'y':y,'y_pred':y_pred})\n",
    "ax1 = results.plot.scatter(x='X', y='y');\n",
    "ax2 = results.plot.scatter(x='X', y='y_pred', ax=ax1, c='k');"
   ]
  },
  {
   "cell_type": "markdown",
   "metadata": {},
   "source": [
    "### Evaluating the performance of the model on the training set\n",
    "While the above plot is useful, it would be better if we could quantify the error between the actual values of $y$ and the predicted values $y_{pred}$. \n",
    "\n",
    "For this problem, we do this using the Root Mean Squared Error, which is caluclated as follows."
   ]
  },
  {
   "cell_type": "code",
   "execution_count": null,
   "metadata": {},
   "outputs": [],
   "source": [
    "rmse = (np.sqrt(mean_squared_error(y, y_pred)))\n",
    "print(rmse)"
   ]
  }
 ],
 "metadata": {
  "kernelspec": {
   "display_name": "Python 3",
   "language": "python",
   "name": "python3"
  },
  "language_info": {
   "codemirror_mode": {
    "name": "ipython",
    "version": 3
   },
   "file_extension": ".py",
   "mimetype": "text/x-python",
   "name": "python",
   "nbconvert_exporter": "python",
   "pygments_lexer": "ipython3",
   "version": "3.6.4"
  }
 },
 "nbformat": 4,
 "nbformat_minor": 2
}
