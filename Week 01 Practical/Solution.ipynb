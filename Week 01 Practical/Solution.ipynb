{
 "cells": [
  {
   "cell_type": "markdown",
   "metadata": {},
   "source": [
    "### Overview\n",
    "The goal of these exercises is to challenge you a little bit and make you think. The questions are designed to allow you to have a play around and try a few things before getting to the answer. The solutions are obtainable by writing very similar to code to what has been explored in these notebooks, but may require an extra step of logic. \n",
    "\n",
    "The solutions will be released after the lecture on Thursday.\n",
    "\n",
    "Let's start with importing libraries and the lists and arrays that you will be working on throughout this notebook."
   ]
  },
  {
   "cell_type": "code",
   "execution_count": null,
   "metadata": {},
   "outputs": [],
   "source": [
    "import numpy as np\n",
    "\n",
    "list1 = [-10, -5, -2, 0, 2, 5, 10]\n",
    "mat = np.array([[0, 1, 2], [3, 4, 5], [6, 7, 8]])"
   ]
  },
  {
   "cell_type": "markdown",
   "metadata": {},
   "source": [
    "## Exercise 1\n",
    "\n",
    "The Rectified Linear Unit function $\\operatorname{ReLU}(x) = \\max\\{0,x\\}$ is a non-linearity which is essential to most neural networks.\n",
    "\n",
    "**1. a)** Write a function that will take a floating point number $x$ and return $\\operatorname{ReLU}(x)$. Test your function on the `list1`. \n",
    "\n",
    "Hint: \n",
    "The ReLU function can be reformulated as \n",
    "> $\\operatorname{ReLU}(x) =  \\begin{cases}\n",
    "x & \\mathrm{if} \\, x \\geq 0,\\\\ \n",
    "0 & \\mathrm{if} \\, x < 0.\n",
    "\\end{cases}$"
   ]
  },
  {
   "cell_type": "code",
   "execution_count": 2,
   "metadata": {
    "scrolled": true
   },
   "outputs": [
    {
     "name": "stdout",
     "output_type": "stream",
     "text": [
      "-10 -> 0\n",
      "-5 -> 0\n",
      "-2 -> 0\n",
      "0 -> 0\n",
      "2 -> 2\n",
      "5 -> 5\n",
      "10 -> 10\n"
     ]
    }
   ],
   "source": [
    "# Write your answer here\n",
    "\n",
    "def ReLU(x):\n",
    "    if x>=0:\n",
    "        return x\n",
    "    elif x<0:\n",
    "        return 0\n",
    "\n",
    "for i in list1:\n",
    "    print(i, '->', ReLU(i))"
   ]
  },
  {
   "cell_type": "markdown",
   "metadata": {},
   "source": [
    "**1. b)  [Optional]** An extension of ReLU is the Exponential Linear Unit. \n",
    "\n",
    "> $\\operatorname{ELU}(x) =  \\begin{cases}\n",
    "x &  \\mathrm{if} \\, x \\geq 0,\\\\ \n",
    "\\alpha(\\mathrm{e}^x-1) & \\mathrm{if} \\, x < 0. \\end{cases}$\n",
    "\n",
    "Write a function which will return $\\operatorname{ELU}(x)$ for a given $\\alpha$. Test your function on the `list1`. \n",
    "\n",
    "Hint:\n",
    "You might need `np.exp`."
   ]
  },
  {
   "cell_type": "code",
   "execution_count": 3,
   "metadata": {},
   "outputs": [
    {
     "name": "stdout",
     "output_type": "stream",
     "text": [
      "-10 -> -0.09999546000702375\n",
      "-5 -> -0.09932620530009145\n",
      "-2 -> -0.08646647167633874\n",
      "0 -> 0\n",
      "2 -> 2\n",
      "5 -> 5\n",
      "10 -> 10\n"
     ]
    }
   ],
   "source": [
    "# Write your answer here\n",
    "\n",
    "alpha = 0.1\n",
    "\n",
    "def ELU(x, alpha):\n",
    "    if x>=0:\n",
    "        return x\n",
    "    elif x<0:\n",
    "        return alpha*(np.exp(x)-1)\n",
    "\n",
    "for i in list1:\n",
    "    print(i, '->', ELU(i, alpha))"
   ]
  },
  {
   "cell_type": "markdown",
   "metadata": {},
   "source": [
    "## Exercise 2\n",
    "**2. a)** Take the matrix `mat` that we used in the 'Numpy and Arrays' notebook. Use numpy to switch the second and third rows of the matrix."
   ]
  },
  {
   "cell_type": "code",
   "execution_count": 4,
   "metadata": {},
   "outputs": [
    {
     "name": "stdout",
     "output_type": "stream",
     "text": [
      "[[0 1 2]\n",
      " [3 4 5]\n",
      " [6 7 8]]\n",
      "[[0 1 2]\n",
      " [6 7 8]\n",
      " [3 4 5]]\n"
     ]
    }
   ],
   "source": [
    "# Write your answer here\n",
    "\n",
    "mat2 = mat.copy()\n",
    "mat2[1] = mat[2]\n",
    "mat2[2] = mat[1]\n",
    "print(mat)\n",
    "print(mat2)"
   ]
  },
  {
   "cell_type": "markdown",
   "metadata": {},
   "source": [
    "**2. b)** Create a function that can swap any two rows of any given matrix. Include checks that the `idx1` and `idx2` exist for the loaded matrix."
   ]
  },
  {
   "cell_type": "code",
   "execution_count": 5,
   "metadata": {},
   "outputs": [],
   "source": [
    "# Write your answer here\n",
    "\n",
    "def swap_rows(matrix, idx1, idx2): #This is where the function is defined\n",
    "    mat2 = matrix.copy()\n",
    "    height = matrix.shape[0]\n",
    "    width = matrix.shape[1]\n",
    "    print('Height =', height)\n",
    "    \n",
    "    if idx1 > height:\n",
    "        print('Error, index 1 greater than height')\n",
    "        return\n",
    "    if idx2 > width:\n",
    "        print('Error, index 2 greater than width')\n",
    "        return\n",
    "    \n",
    "    mat2[idx1] = matrix[idx2]\n",
    "    mat2[idx2] = matrix[idx1]\n",
    "    return mat2"
   ]
  },
  {
   "cell_type": "code",
   "execution_count": 6,
   "metadata": {},
   "outputs": [
    {
     "name": "stdout",
     "output_type": "stream",
     "text": [
      "Height = 3\n"
     ]
    },
    {
     "data": {
      "text/plain": [
       "array([[0, 1, 2],\n",
       "       [6, 7, 8],\n",
       "       [3, 4, 5]])"
      ]
     },
     "execution_count": 6,
     "metadata": {},
     "output_type": "execute_result"
    }
   ],
   "source": [
    "#This cell is where we are going to call the function\n",
    "swap_rows(mat, 1, 2)"
   ]
  },
  {
   "cell_type": "markdown",
   "metadata": {},
   "source": [
    "**2. c)** Print the top right 2x2 square of the matrix `mat`."
   ]
  },
  {
   "cell_type": "code",
   "execution_count": 7,
   "metadata": {},
   "outputs": [
    {
     "data": {
      "text/plain": [
       "array([[1, 2],\n",
       "       [4, 5]])"
      ]
     },
     "execution_count": 7,
     "metadata": {},
     "output_type": "execute_result"
    }
   ],
   "source": [
    "# Write your answer here\n",
    "\n",
    "mat[:2,1:3]"
   ]
  },
  {
   "cell_type": "markdown",
   "metadata": {},
   "source": [
    "## Exercise 3\n",
    "In artificial intelligence, the data sets that you work on will sometimes be missing values. Handling missing values is one of the tasks you will have to handle before you can start to implement your model. Many off-the-shelf methods won't run if missing values exist, or will just delete any row where even one value is missing.\n",
    "\n",
    "This exercise will cover some of the simplest ways to handle this problem."
   ]
  },
  {
   "cell_type": "markdown",
   "metadata": {},
   "source": [
    "**3. a)** Load the data set `missing.csv` and use `np.where` to find where the dataset is missing values"
   ]
  },
  {
   "cell_type": "markdown",
   "metadata": {},
   "source": [
    "**3. b) i)** Replace the missing values with a \"don't care\" value. Usually, this means fill in all missing values with `-1`"
   ]
  },
  {
   "cell_type": "code",
   "execution_count": 8,
   "metadata": {},
   "outputs": [
    {
     "name": "stdout",
     "output_type": "stream",
     "text": [
      "[['House Price' ' Number of Bedooms' ' Number of Bathrooms'\n",
      "  ' Square Meters']\n",
      " ['80000' '1' '1' '25']\n",
      " ['220000' '3' '1' '48']\n",
      " ['625000' '6' '3' '']\n",
      " ['' '4' '2' '57']\n",
      " ['455500' '4' ' ' '70']\n",
      " ['350000' ' ' '2' '60']]\n"
     ]
    }
   ],
   "source": [
    "# Write your answer here\n",
    "values = np.genfromtxt('Data/missing.csv', delimiter = ',', dtype = '|U') \n",
    "#Note that if we load this as int, numpy automatically sends  missing values to -1\n",
    "print(values)"
   ]
  },
  {
   "cell_type": "code",
   "execution_count": 9,
   "metadata": {},
   "outputs": [
    {
     "name": "stdout",
     "output_type": "stream",
     "text": [
      "[['House Price' ' Number of Bedooms' ' Number of Bathrooms'\n",
      "  ' Square Meters']\n",
      " ['80000' '1' '1' '25']\n",
      " ['220000' '3' '1' '48']\n",
      " ['625000' '6' '3' '-1']\n",
      " ['-1' '4' '2' '57']\n",
      " ['455500' '4' '-1' '70']\n",
      " ['350000' '-1' '2' '60']]\n"
     ]
    }
   ],
   "source": [
    "values[np.where(values == ' ')] = '-1' # There was a small error when loading the data set. The second line shouldn't be \n",
    "values[np.where(values == '')] = '-1'  # needed. Lots of data sets have similar errors however. It's good to see how to\n",
    "print(values)                          # deal with them when they crop up. "
   ]
  },
  {
   "cell_type": "markdown",
   "metadata": {},
   "source": [
    "**3. b) ii)** Replace the missing value with a random value. You should generate the random value using numpy, and generate a new random value for each cell to fill in. The random value should be larger than the smallest value in the column, and smaller than the largest value in the column. \n",
    "\n",
    "Hint: You might need `np.random.randint(low, high)`"
   ]
  },
  {
   "cell_type": "code",
   "execution_count": 10,
   "metadata": {},
   "outputs": [],
   "source": [
    "# Write your answers here\n",
    "values = np.genfromtxt('Data/missing.csv', delimiter = ',', dtype = int) \n",
    "#Note that if we load this as int, numpy automatically sends  missing values to -1\n",
    "\n",
    "values = values[1:] #Remove the top row with feature names\n",
    "\n",
    "#print(values) #You can comment out lines of code that could be useful later."
   ]
  },
  {
   "cell_type": "code",
   "execution_count": 11,
   "metadata": {},
   "outputs": [],
   "source": [
    "#Define a function to get the min and max from a given column.\n",
    "\n",
    "def column_range(arr):\n",
    "    min = np.min(arr)\n",
    "    max = np.max(arr)\n",
    "    return min, max"
   ]
  },
  {
   "cell_type": "code",
   "execution_count": 12,
   "metadata": {},
   "outputs": [
    {
     "name": "stdout",
     "output_type": "stream",
     "text": [
      "[[ 80000      1      1     25]\n",
      " [220000      3      1     48]\n",
      " [625000      6      3     59]\n",
      " [140864      4      2     57]\n",
      " [455500      4      1     70]\n",
      " [350000     -1      2     60]]\n"
     ]
    }
   ],
   "source": [
    "#Now write a for loop over all four columns. Use the above function to get the min and the max, then fill in the missing\n",
    "#value\n",
    "\n",
    "for i in range(4):\n",
    "    a = values[:,i] # Remember here a is viewing the data. So if we change a, we change 'values' as well.\n",
    "    min, max = column_range(a)\n",
    "    # print(min, max)   \n",
    "    a[np.where(a==-1)] = np.random.randint(min, max) #This is the line where a is changed\n",
    "\n",
    "print(values)"
   ]
  },
  {
   "cell_type": "markdown",
   "metadata": {},
   "source": [
    "**3. d)** Write a function which takes a filename as input. The function needs to load the data set from the filename. It should then check for any missing values and replace them with the mean of the column. Test the function with `missing.csv`"
   ]
  },
  {
   "cell_type": "code",
   "execution_count": 13,
   "metadata": {},
   "outputs": [],
   "source": [
    "#This time the function will load the data and process missing values\n",
    "\n",
    "def impute_values(csv_file): \n",
    "    values = np.genfromtxt(csv_file, delimiter = ',', dtype = int) #missing values are -1 now, not ' ' as we use type int\n",
    "    \n",
    "    values = values[1:] #Remove the top row with feature names\n",
    "    #print(values)\n",
    "\n",
    "    for i in range(4):\n",
    "        a = values[:,i]\n",
    "        a[np.where(a==-1)] = np.mean(a)\n",
    "    return values"
   ]
  },
  {
   "cell_type": "code",
   "execution_count": 14,
   "metadata": {},
   "outputs": [
    {
     "data": {
      "text/plain": [
       "array([[ 80000,      1,      1,     25],\n",
       "       [220000,      3,      1,     48],\n",
       "       [625000,      6,      3,     43],\n",
       "       [288416,      4,      2,     57],\n",
       "       [455500,      4,      1,     70],\n",
       "       [350000,      2,      2,     60]])"
      ]
     },
     "execution_count": 14,
     "metadata": {},
     "output_type": "execute_result"
    }
   ],
   "source": [
    "#In this cell, we will call the function.\n",
    "\n",
    "csv_file = 'Data/missing.csv'\n",
    "\n",
    "impute_values(csv_file)"
   ]
  }
 ],
 "metadata": {
  "kernelspec": {
   "display_name": "Python 3",
   "language": "python",
   "name": "python3"
  },
  "language_info": {
   "codemirror_mode": {
    "name": "ipython",
    "version": 3
   },
   "file_extension": ".py",
   "mimetype": "text/x-python",
   "name": "python",
   "nbconvert_exporter": "python",
   "pygments_lexer": "ipython3",
   "version": "3.7.4"
  }
 },
 "nbformat": 4,
 "nbformat_minor": 2
}
